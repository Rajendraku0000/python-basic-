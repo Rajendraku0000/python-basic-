{
  "cells": [
    {
      "cell_type": "code",
      "execution_count": null,
      "id": "2f7d4d01",
      "metadata": {
        "id": "2f7d4d01"
      },
      "outputs": [],
      "source": [
        "state=\"RAJASTHAN\""
      ]
    },
    {
      "cell_type": "code",
      "execution_count": null,
      "id": "37f25e4d",
      "metadata": {
        "id": "37f25e4d",
        "outputId": "2c8fa1bb-28a8-46b5-9994-b0732d6b00ac"
      },
      "outputs": [
        {
          "data": {
            "text/plain": [
              "'RAJASTHAN'"
            ]
          },
          "execution_count": 2,
          "metadata": {},
          "output_type": "execute_result"
        }
      ],
      "source": [
        "state"
      ]
    },
    {
      "cell_type": "code",
      "execution_count": null,
      "id": "a1a2c771",
      "metadata": {
        "id": "a1a2c771",
        "outputId": "64aa3785-d27e-4e06-fee6-7972234bdc78"
      },
      "outputs": [
        {
          "data": {
            "text/plain": [
              "'R'"
            ]
          },
          "execution_count": 3,
          "metadata": {},
          "output_type": "execute_result"
        }
      ],
      "source": [
        "state[0]"
      ]
    },
    {
      "cell_type": "code",
      "execution_count": null,
      "id": "f7586c4f",
      "metadata": {
        "id": "f7586c4f",
        "outputId": "2013a2df-8f76-4c4f-d0aa-da561dff8692"
      },
      "outputs": [
        {
          "data": {
            "text/plain": [
              "'RAJASTHAN'"
            ]
          },
          "execution_count": 4,
          "metadata": {},
          "output_type": "execute_result"
        }
      ],
      "source": [
        "state[0:]"
      ]
    },
    {
      "cell_type": "code",
      "execution_count": null,
      "id": "9ddf9174",
      "metadata": {
        "id": "9ddf9174",
        "outputId": "44cb5261-4371-404e-dc9a-a59d34a14c84"
      },
      "outputs": [
        {
          "data": {
            "text/plain": [
              "'AJASTHAN'"
            ]
          },
          "execution_count": 5,
          "metadata": {},
          "output_type": "execute_result"
        }
      ],
      "source": [
        "state[1:]"
      ]
    },
    {
      "cell_type": "code",
      "execution_count": null,
      "id": "20810dc2",
      "metadata": {
        "id": "20810dc2",
        "outputId": "74edcf14-ef08-404f-e4b0-7033cd569ae0"
      },
      "outputs": [
        {
          "data": {
            "text/plain": [
              "'RAJA'"
            ]
          },
          "execution_count": 6,
          "metadata": {},
          "output_type": "execute_result"
        }
      ],
      "source": [
        "state[:4]"
      ]
    },
    {
      "cell_type": "code",
      "execution_count": null,
      "id": "341a44da",
      "metadata": {
        "id": "341a44da",
        "outputId": "33b38996-42f4-458c-e222-a3d961c1d847"
      },
      "outputs": [
        {
          "data": {
            "text/plain": [
              "'RAJAST'"
            ]
          },
          "execution_count": 7,
          "metadata": {},
          "output_type": "execute_result"
        }
      ],
      "source": [
        "state=\"RAJASTHAN\"\n",
        "state[:6]"
      ]
    },
    {
      "cell_type": "code",
      "execution_count": null,
      "id": "819afa5e",
      "metadata": {
        "id": "819afa5e",
        "outputId": "a0dfe89e-8264-411d-fc3a-2883b1926fac"
      },
      "outputs": [
        {
          "data": {
            "text/plain": [
              "'RAJASTHAN'"
            ]
          },
          "execution_count": 8,
          "metadata": {},
          "output_type": "execute_result"
        }
      ],
      "source": [
        "state=\"RAJASTHAN\"\n",
        "state[:]"
      ]
    },
    {
      "cell_type": "code",
      "execution_count": null,
      "id": "cb52dcc8",
      "metadata": {
        "id": "cb52dcc8",
        "outputId": "5accc8a9-3311-4434-a0d5-65630eaf3cfe"
      },
      "outputs": [
        {
          "data": {
            "text/plain": [
              "'RAJA'"
            ]
          },
          "execution_count": 9,
          "metadata": {},
          "output_type": "execute_result"
        }
      ],
      "source": [
        "#  step size =1 ( )\n",
        "state=\"RAJASTHAN\"\n",
        "state[0:4:1]"
      ]
    },
    {
      "cell_type": "code",
      "execution_count": null,
      "id": "69737e42",
      "metadata": {
        "id": "69737e42",
        "outputId": "4c4def46-6a95-4e58-b3fb-f1735abd710c"
      },
      "outputs": [
        {
          "data": {
            "text/plain": [
              "'RJ'"
            ]
          },
          "execution_count": 10,
          "metadata": {},
          "output_type": "execute_result"
        }
      ],
      "source": [
        "state=\"RAJASTHAN\"\n",
        "state[0:4:2]\n",
        "#  0,1,2,3\n",
        "#  0+2 => 2+2  => 4"
      ]
    },
    {
      "cell_type": "code",
      "execution_count": null,
      "id": "d39a3bef",
      "metadata": {
        "id": "d39a3bef",
        "outputId": "221049ca-665d-40cb-c9c8-06d2d1a2b6fa"
      },
      "outputs": [
        {
          "data": {
            "text/plain": [
              "'RAH'"
            ]
          },
          "execution_count": 11,
          "metadata": {},
          "output_type": "execute_result"
        }
      ],
      "source": [
        "state=\"RAJASTHAN\"\n",
        "state[0:7:3]\n"
      ]
    },
    {
      "cell_type": "code",
      "execution_count": null,
      "id": "81515059",
      "metadata": {
        "id": "81515059",
        "outputId": "d60a8357-190f-4683-d727-dd4f368af87b"
      },
      "outputs": [
        {
          "data": {
            "text/plain": [
              "'AATA'"
            ]
          },
          "execution_count": 12,
          "metadata": {},
          "output_type": "execute_result"
        }
      ],
      "source": [
        "state=\"RAJASTHAN\"\n",
        "state[1::2]\n"
      ]
    },
    {
      "cell_type": "code",
      "execution_count": null,
      "id": "3c8450e0",
      "metadata": {
        "id": "3c8450e0",
        "outputId": "02254144-c7a7-4fd1-c6af-22c6cc61e77d"
      },
      "outputs": [
        {
          "data": {
            "text/plain": [
              "''"
            ]
          },
          "execution_count": 14,
          "metadata": {},
          "output_type": "execute_result"
        }
      ],
      "source": [
        "state=\"RAJASTHAN\"\n",
        "state[0:6:-1]\n"
      ]
    },
    {
      "cell_type": "code",
      "execution_count": null,
      "id": "cc1860bf",
      "metadata": {
        "id": "cc1860bf",
        "outputId": "5e23b35e-0f02-4e91-8703-bdda3e88d254"
      },
      "outputs": [
        {
          "data": {
            "text/plain": [
              "'HTSAJA'"
            ]
          },
          "execution_count": 17,
          "metadata": {},
          "output_type": "execute_result"
        }
      ],
      "source": [
        "state=\"RAJASTHAN\"\n",
        "state[6:0:-1]\n"
      ]
    },
    {
      "cell_type": "code",
      "execution_count": null,
      "id": "2b3f140b",
      "metadata": {
        "id": "2b3f140b",
        "outputId": "397708d2-90ea-4f74-ff06-09c659af2ce6"
      },
      "outputs": [
        {
          "data": {
            "text/plain": [
              "'NAH'"
            ]
          },
          "execution_count": 19,
          "metadata": {},
          "output_type": "execute_result"
        }
      ],
      "source": [
        "state=\"RAJASTHAN\"\n",
        "state[-1:-4:-1]\n"
      ]
    },
    {
      "cell_type": "code",
      "execution_count": null,
      "id": "3a22651b",
      "metadata": {
        "id": "3a22651b",
        "outputId": "bd87edb5-700b-4d6c-ab87-f4d733a38e00"
      },
      "outputs": [
        {
          "data": {
            "text/plain": [
              "'NH'"
            ]
          },
          "execution_count": 20,
          "metadata": {},
          "output_type": "execute_result"
        }
      ],
      "source": [
        "state[-1:-5:-2]\n"
      ]
    },
    {
      "cell_type": "code",
      "execution_count": null,
      "id": "eb999f90",
      "metadata": {
        "id": "eb999f90",
        "outputId": "460e79c2-5e19-46e1-8d29-05b60a9183b5"
      },
      "outputs": [
        {
          "data": {
            "text/plain": [
              "'NAHTSAJAR'"
            ]
          },
          "execution_count": 22,
          "metadata": {},
          "output_type": "execute_result"
        }
      ],
      "source": [
        "state[-1::-1]\n"
      ]
    },
    {
      "cell_type": "code",
      "execution_count": null,
      "id": "944ca8b5",
      "metadata": {
        "id": "944ca8b5",
        "outputId": "78ca5ce2-a793-475c-d5c8-1cd1781ef445"
      },
      "outputs": [
        {
          "data": {
            "text/plain": [
              "'HAN'"
            ]
          },
          "execution_count": 25,
          "metadata": {},
          "output_type": "execute_result"
        }
      ],
      "source": [
        "state[-3::1]\n",
        "# -1, :"
      ]
    },
    {
      "cell_type": "code",
      "execution_count": null,
      "id": "6ed70da9",
      "metadata": {
        "id": "6ed70da9",
        "outputId": "c92300ed-7b25-4d48-c53b-893dcd86a6b7"
      },
      "outputs": [
        {
          "data": {
            "text/plain": [
              "'RAJASTHAN'"
            ]
          },
          "execution_count": 24,
          "metadata": {},
          "output_type": "execute_result"
        }
      ],
      "source": [
        "state"
      ]
    },
    {
      "cell_type": "code",
      "execution_count": null,
      "id": "8d785d6d",
      "metadata": {
        "id": "8d785d6d",
        "outputId": "215fb7de-da8d-48f1-8a37-a537677945f6"
      },
      "outputs": [
        {
          "data": {
            "text/plain": [
              "'AR'"
            ]
          },
          "execution_count": 27,
          "metadata": {},
          "output_type": "execute_result"
        }
      ],
      "source": [
        "#  string slicing\n",
        "state[1::-1]\n"
      ]
    },
    {
      "cell_type": "code",
      "execution_count": null,
      "id": "cc2c1748",
      "metadata": {
        "id": "cc2c1748"
      },
      "outputs": [],
      "source": [
        "#  string formatting & slicing \n",
        "#  list dat tyoe\n",
        "\n",
        "#  list datatype: collecrion of different data type []\n",
        "#  identital \n",
        "#  mutuable\n",
        "#  indexing\n",
        "#  ordered element\n",
        "#  duplicate element\n",
        "\n",
        "#  list => data type ( collection of differenet element)\n",
        "#  mix of data type\n",
        "#  oredered colleciton of element\n",
        "#  they have the index position\n",
        "#  mutuable in nature\n",
        "\n",
        "\n",
        "#  list vs array?\n",
        "#  array => single type ( int array ) => fixed size (compile ) => memory allocate\n",
        "#  continuous memory mai store hota hai\n",
        "#  int => 2 byte\n",
        "#  3 element array   1000  10002 1004\n",
        "\n",
        "#  list => mix datatype, => no fix size, run time \n",
        "#  no continous memory locaiton  ( call by object reference)"
      ]
    },
    {
      "cell_type": "code",
      "execution_count": null,
      "id": "5b5e4195",
      "metadata": {
        "id": "5b5e4195",
        "outputId": "7680b6b6-f9b9-4ce7-e20f-20ef9ab09dca"
      },
      "outputs": [
        {
          "name": "stdout",
          "output_type": "stream",
          "text": [
            "<class 'list'>\n"
          ]
        }
      ],
      "source": [
        "#  list a real time use cases\n",
        "#  list method ()\n",
        "#  camel case\n",
        "#  snake case\n",
        "myList=[]\n",
        "print(type(myList))"
      ]
    },
    {
      "cell_type": "code",
      "execution_count": null,
      "id": "4eaf606a",
      "metadata": {
        "id": "4eaf606a",
        "outputId": "98fa2d03-6569-451d-997f-8744f4f78372"
      },
      "outputs": [
        {
          "name": "stdout",
          "output_type": "stream",
          "text": [
            "<class 'list'>\n"
          ]
        }
      ],
      "source": [
        "myList=[10,20,\"hey\"]\n",
        "print(type(myList))"
      ]
    },
    {
      "cell_type": "code",
      "execution_count": null,
      "id": "1d094e42",
      "metadata": {
        "id": "1d094e42",
        "outputId": "ff8d77df-2cef-44fe-be81-57ee7612018b"
      },
      "outputs": [
        {
          "data": {
            "text/plain": [
              "[]"
            ]
          },
          "execution_count": 40,
          "metadata": {},
          "output_type": "execute_result"
        }
      ],
      "source": [
        "#  access a elenet\n",
        "#  0\n",
        "myList[1:2:-1]"
      ]
    },
    {
      "cell_type": "code",
      "execution_count": null,
      "id": "f7daaffe",
      "metadata": {
        "id": "f7daaffe",
        "outputId": "55f63885-5d4d-4ead-9d94-fb596a856abe"
      },
      "outputs": [
        {
          "data": {
            "text/plain": [
              "[20, 10]"
            ]
          },
          "execution_count": 41,
          "metadata": {},
          "output_type": "execute_result"
        }
      ],
      "source": [
        "myList[1::-1]"
      ]
    },
    {
      "cell_type": "code",
      "execution_count": null,
      "id": "895c148a",
      "metadata": {
        "id": "895c148a",
        "outputId": "3975e874-5319-4ed6-fa10-df9d69bba5a2"
      },
      "outputs": [
        {
          "data": {
            "text/plain": [
              "[10, 20, 'hey']"
            ]
          },
          "execution_count": 42,
          "metadata": {},
          "output_type": "execute_result"
        }
      ],
      "source": [
        "myList"
      ]
    },
    {
      "cell_type": "code",
      "execution_count": null,
      "id": "fb4ef4c9",
      "metadata": {
        "id": "fb4ef4c9"
      },
      "outputs": [],
      "source": [
        "myList[0]=2000"
      ]
    },
    {
      "cell_type": "code",
      "execution_count": null,
      "id": "67858565",
      "metadata": {
        "id": "67858565",
        "outputId": "0954df45-5962-4a20-d8b8-b536aa9b0d3c"
      },
      "outputs": [
        {
          "data": {
            "text/plain": [
              "2000"
            ]
          },
          "execution_count": 45,
          "metadata": {},
          "output_type": "execute_result"
        }
      ],
      "source": [
        "myList[0]"
      ]
    },
    {
      "cell_type": "code",
      "execution_count": null,
      "id": "9c7c81e1",
      "metadata": {
        "id": "9c7c81e1",
        "outputId": "fc5e1b7f-23d2-4816-f145-c07373eaf1b4"
      },
      "outputs": [
        {
          "data": {
            "text/plain": [
              "[2000, 20, 'hey']"
            ]
          },
          "execution_count": 46,
          "metadata": {},
          "output_type": "execute_result"
        }
      ],
      "source": [
        "myList"
      ]
    },
    {
      "cell_type": "code",
      "execution_count": null,
      "id": "e644254d",
      "metadata": {
        "id": "e644254d"
      },
      "outputs": [],
      "source": [
        "myList[0]=\"tushar\""
      ]
    },
    {
      "cell_type": "code",
      "execution_count": null,
      "id": "4547efef",
      "metadata": {
        "id": "4547efef",
        "outputId": "3ca1c5c8-8363-4a3a-93ae-1cd490c6b48e"
      },
      "outputs": [
        {
          "data": {
            "text/plain": [
              "['tushar', 20, 'hey']"
            ]
          },
          "execution_count": 48,
          "metadata": {},
          "output_type": "execute_result"
        }
      ],
      "source": [
        "myList\n"
      ]
    },
    {
      "cell_type": "code",
      "execution_count": null,
      "id": "86761fba",
      "metadata": {
        "id": "86761fba"
      },
      "outputs": [],
      "source": [
        "myList[0:2] = [99,88]"
      ]
    },
    {
      "cell_type": "code",
      "execution_count": null,
      "id": "176286e1",
      "metadata": {
        "id": "176286e1",
        "outputId": "b968e525-12ca-4275-aef3-c7fbfcefc603"
      },
      "outputs": [
        {
          "data": {
            "text/plain": [
              "[99, 88, 'hey']"
            ]
          },
          "execution_count": 51,
          "metadata": {},
          "output_type": "execute_result"
        }
      ],
      "source": [
        "myList"
      ]
    },
    {
      "cell_type": "code",
      "execution_count": null,
      "id": "702d20ca",
      "metadata": {
        "id": "702d20ca"
      },
      "outputs": [],
      "source": [
        "myList[0:2] = [10,20,\"regex\"]"
      ]
    },
    {
      "cell_type": "code",
      "execution_count": null,
      "id": "60dbe53c",
      "metadata": {
        "id": "60dbe53c",
        "outputId": "bff3034d-2fd3-4d55-a2f5-6e8b12a55737"
      },
      "outputs": [
        {
          "data": {
            "text/plain": [
              "[10, 20, 'regex', 'hey']"
            ]
          },
          "execution_count": 53,
          "metadata": {},
          "output_type": "execute_result"
        }
      ],
      "source": [
        "myList\n"
      ]
    },
    {
      "cell_type": "code",
      "execution_count": null,
      "id": "9e399653",
      "metadata": {
        "id": "9e399653"
      },
      "outputs": [],
      "source": [
        "#  update, retrive ( access)"
      ]
    },
    {
      "cell_type": "code",
      "execution_count": null,
      "id": "618ba539",
      "metadata": {
        "id": "618ba539"
      },
      "outputs": [],
      "source": [
        "#  create\n"
      ]
    },
    {
      "cell_type": "code",
      "execution_count": null,
      "id": "d1329625",
      "metadata": {
        "id": "d1329625",
        "outputId": "c14b1e0f-9b4c-40ae-bdf8-dd760801a9d7"
      },
      "outputs": [
        {
          "data": {
            "text/plain": [
              "[10, 20, 'regex', 'hey']"
            ]
          },
          "execution_count": 56,
          "metadata": {},
          "output_type": "execute_result"
        }
      ],
      "source": [
        "myList"
      ]
    },
    {
      "cell_type": "code",
      "execution_count": null,
      "id": "f3e03a5b",
      "metadata": {
        "id": "f3e03a5b"
      },
      "outputs": [],
      "source": [
        "myList.append(40)"
      ]
    },
    {
      "cell_type": "code",
      "execution_count": null,
      "id": "e1edcb8f",
      "metadata": {
        "id": "e1edcb8f",
        "outputId": "910fff4b-11fc-456f-cd5f-20d7cc53b327"
      },
      "outputs": [
        {
          "data": {
            "text/plain": [
              "[10, 20, 'regex', 'hey', 40]"
            ]
          },
          "execution_count": 58,
          "metadata": {},
          "output_type": "execute_result"
        }
      ],
      "source": [
        "myList"
      ]
    },
    {
      "cell_type": "code",
      "execution_count": null,
      "id": "54a070a9",
      "metadata": {
        "id": "54a070a9"
      },
      "outputs": [],
      "source": [
        "\n",
        "myList.append(50)"
      ]
    },
    {
      "cell_type": "code",
      "execution_count": null,
      "id": "7a5458bc",
      "metadata": {
        "id": "7a5458bc"
      },
      "outputs": [],
      "source": [
        "myList.extend( [70,80] )"
      ]
    },
    {
      "cell_type": "code",
      "execution_count": null,
      "id": "3325f801",
      "metadata": {
        "id": "3325f801",
        "outputId": "90dcacae-9277-46b1-dc76-e22edf815bd6"
      },
      "outputs": [
        {
          "data": {
            "text/plain": [
              "[10, 20, 'regex', 'hey', 40, 50, 70, 80]"
            ]
          },
          "execution_count": 64,
          "metadata": {},
          "output_type": "execute_result"
        }
      ],
      "source": [
        "myList"
      ]
    },
    {
      "cell_type": "code",
      "execution_count": null,
      "id": "92103559",
      "metadata": {
        "id": "92103559"
      },
      "outputs": [],
      "source": [
        "#  string iterable\n",
        "myList.extend( [\"happy\"] )"
      ]
    },
    {
      "cell_type": "code",
      "execution_count": null,
      "id": "e2fa876c",
      "metadata": {
        "id": "e2fa876c",
        "outputId": "229610d2-cad3-4d2a-bf2a-3811ac364a6d"
      },
      "outputs": [
        {
          "data": {
            "text/plain": [
              "[10, 20, 'regex', 'hey', 40, 50, 70, 80, 'h', 'a', 'p', 'p', 'y', 'happy']"
            ]
          },
          "execution_count": 68,
          "metadata": {},
          "output_type": "execute_result"
        }
      ],
      "source": [
        "myList"
      ]
    },
    {
      "cell_type": "code",
      "execution_count": null,
      "id": "f226c608",
      "metadata": {
        "id": "f226c608",
        "outputId": "2c547f7f-8ac1-4676-a569-c252e562d1b0"
      },
      "outputs": [
        {
          "data": {
            "text/plain": [
              "[10, 20, 'regex', 'hey', 40, 50, 70, 80, 'h', 'a', 'p', 'p', 'y', 'happy', 10]"
            ]
          },
          "execution_count": 70,
          "metadata": {},
          "output_type": "execute_result"
        }
      ],
      "source": [
        "myList.append(10)\n",
        "myList"
      ]
    },
    {
      "cell_type": "code",
      "execution_count": null,
      "id": "23310b04",
      "metadata": {
        "id": "23310b04",
        "outputId": "46f5ec4c-cc87-48ca-8267-9f207685e166"
      },
      "outputs": [
        {
          "data": {
            "text/plain": [
              "2"
            ]
          },
          "execution_count": 71,
          "metadata": {},
          "output_type": "execute_result"
        }
      ],
      "source": [
        "myList.count(10)"
      ]
    },
    {
      "cell_type": "code",
      "execution_count": null,
      "id": "ec076188",
      "metadata": {
        "id": "ec076188",
        "outputId": "7f42754b-5c6e-4a02-f217-36a272112efe"
      },
      "outputs": [
        {
          "data": {
            "text/plain": [
              "0"
            ]
          },
          "execution_count": 73,
          "metadata": {},
          "output_type": "execute_result"
        }
      ],
      "source": [
        "myList.index(10,)"
      ]
    },
    {
      "cell_type": "code",
      "execution_count": null,
      "id": "7304ffd3",
      "metadata": {
        "id": "7304ffd3",
        "outputId": "89ef5e5a-56cb-459e-c78b-a463f6c7b65b"
      },
      "outputs": [
        {
          "data": {
            "text/plain": [
              "14"
            ]
          },
          "execution_count": 76,
          "metadata": {},
          "output_type": "execute_result"
        }
      ],
      "source": [
        "myList.index(10,1)"
      ]
    },
    {
      "cell_type": "code",
      "execution_count": null,
      "id": "a9927ef4",
      "metadata": {
        "id": "a9927ef4",
        "outputId": "e71212fc-5e1b-462e-8ca3-74c7b5c01d49"
      },
      "outputs": [
        {
          "data": {
            "text/plain": [
              "14"
            ]
          },
          "execution_count": 77,
          "metadata": {},
          "output_type": "execute_result"
        }
      ],
      "source": [
        "myList.index(10,4)"
      ]
    },
    {
      "cell_type": "code",
      "execution_count": null,
      "id": "828fb5ce",
      "metadata": {
        "id": "828fb5ce",
        "outputId": "506ab9a2-2402-4b1b-d94a-c315d5ca43fd"
      },
      "outputs": [
        {
          "data": {
            "text/plain": [
              "14"
            ]
          },
          "execution_count": 83,
          "metadata": {},
          "output_type": "execute_result"
        }
      ],
      "source": [
        "myList.index(10,5,15)"
      ]
    },
    {
      "cell_type": "code",
      "execution_count": null,
      "id": "db7399cc",
      "metadata": {
        "id": "db7399cc",
        "outputId": "6db53957-4a51-434f-fd53-d97f9c42262c"
      },
      "outputs": [
        {
          "data": {
            "text/plain": [
              "[10, 20, 'regex', 'hey', 40, 50, 70, 80, 'h', 'a', 'p', 'p', 'y', 'happy', 10]"
            ]
          },
          "execution_count": 79,
          "metadata": {},
          "output_type": "execute_result"
        }
      ],
      "source": [
        "myList"
      ]
    },
    {
      "cell_type": "code",
      "execution_count": null,
      "id": "f8c606ef",
      "metadata": {
        "id": "f8c606ef",
        "outputId": "e828f7bb-b535-4778-b910-ea01edc0d3a0"
      },
      "outputs": [
        {
          "data": {
            "text/plain": [
              "[10, 20, 'regex', 'hey', 40, 50, 70, 80, 'h', 'a', 'p', 'p', 'y', 'happy', 10]"
            ]
          },
          "execution_count": 84,
          "metadata": {},
          "output_type": "execute_result"
        }
      ],
      "source": [
        "myList"
      ]
    },
    {
      "cell_type": "code",
      "execution_count": null,
      "id": "7df5c116",
      "metadata": {
        "id": "7df5c116"
      },
      "outputs": [],
      "source": [
        "#  spcific position\n",
        "myList.insert(1,9999)"
      ]
    },
    {
      "cell_type": "code",
      "execution_count": null,
      "id": "cdd792f1",
      "metadata": {
        "id": "cdd792f1",
        "outputId": "4472ea15-0ff5-4eed-817e-f365bce69f75"
      },
      "outputs": [
        {
          "data": {
            "text/plain": [
              "[10,\n",
              " 9999,\n",
              " 20,\n",
              " 'regex',\n",
              " 'hey',\n",
              " 40,\n",
              " 50,\n",
              " 70,\n",
              " 80,\n",
              " 'h',\n",
              " 'a',\n",
              " 'p',\n",
              " 'p',\n",
              " 'y',\n",
              " 'happy',\n",
              " 10]"
            ]
          },
          "execution_count": 86,
          "metadata": {},
          "output_type": "execute_result"
        }
      ],
      "source": [
        "myList"
      ]
    },
    {
      "cell_type": "code",
      "execution_count": null,
      "id": "554c1fbf",
      "metadata": {
        "id": "554c1fbf",
        "outputId": "4257b0ff-c9f9-4cb7-dabe-c0c1af7304fe"
      },
      "outputs": [
        {
          "data": {
            "text/plain": [
              "10"
            ]
          },
          "execution_count": 87,
          "metadata": {},
          "output_type": "execute_result"
        }
      ],
      "source": [
        "myList.pop()"
      ]
    },
    {
      "cell_type": "code",
      "execution_count": null,
      "id": "ce4b0f04",
      "metadata": {
        "id": "ce4b0f04",
        "outputId": "5ba1d0a5-03dc-467f-9216-8f3663a37fd0"
      },
      "outputs": [
        {
          "data": {
            "text/plain": [
              "'happy'"
            ]
          },
          "execution_count": 89,
          "metadata": {},
          "output_type": "execute_result"
        }
      ],
      "source": [
        "#  pop ( return bhi krta), remove and del \n",
        "myList.pop()"
      ]
    },
    {
      "cell_type": "code",
      "execution_count": null,
      "id": "04e88c71",
      "metadata": {
        "id": "04e88c71"
      },
      "outputs": [],
      "source": [
        "lastElement=myList.pop()"
      ]
    },
    {
      "cell_type": "code",
      "execution_count": null,
      "id": "be67fb59",
      "metadata": {
        "id": "be67fb59",
        "outputId": "b40d6b8d-d00e-4ec6-d0c1-294abe0fd353"
      },
      "outputs": [
        {
          "data": {
            "text/plain": [
              "[10, 9999, 20, 'regex', 'hey', 40, 50, 70, 80, 'h', 'a', 'p', 'p']"
            ]
          },
          "execution_count": 92,
          "metadata": {},
          "output_type": "execute_result"
        }
      ],
      "source": [
        "myList"
      ]
    },
    {
      "cell_type": "code",
      "execution_count": null,
      "id": "de3720f7",
      "metadata": {
        "id": "de3720f7",
        "outputId": "f33d3a74-de3e-442b-ebb3-f1ea7aaf42af"
      },
      "outputs": [
        {
          "data": {
            "text/plain": [
              "10"
            ]
          },
          "execution_count": 93,
          "metadata": {},
          "output_type": "execute_result"
        }
      ],
      "source": [
        "myList\n",
        "myList.pop(0)"
      ]
    },
    {
      "cell_type": "code",
      "execution_count": null,
      "id": "aa2b9413",
      "metadata": {
        "id": "aa2b9413"
      },
      "outputs": [],
      "source": [
        "myList.append(20)"
      ]
    },
    {
      "cell_type": "code",
      "execution_count": null,
      "id": "1bf7cec0",
      "metadata": {
        "id": "1bf7cec0",
        "outputId": "ddbe9488-01da-4b8f-8cad-af152badb23f"
      },
      "outputs": [
        {
          "data": {
            "text/plain": [
              "[9999, 20, 'regex', 'hey', 40, 50, 70, 80, 'h', 'a', 'p', 'p', 20]"
            ]
          },
          "execution_count": 96,
          "metadata": {},
          "output_type": "execute_result"
        }
      ],
      "source": [
        "\n",
        "myList\n",
        "# myList.remove('p')"
      ]
    },
    {
      "cell_type": "code",
      "execution_count": null,
      "id": "4f142ea2",
      "metadata": {
        "id": "4f142ea2"
      },
      "outputs": [],
      "source": [
        "#  delete only the element\n",
        "myList.remove(20,)"
      ]
    },
    {
      "cell_type": "code",
      "execution_count": null,
      "id": "332ea5f4",
      "metadata": {
        "id": "332ea5f4",
        "outputId": "1f819604-45d7-445a-e5b4-44c531be2c9b"
      },
      "outputs": [
        {
          "data": {
            "text/plain": [
              "[9999, 'regex', 'hey', 40, 50, 70, 80, 'h', 'a', 'p', 'p', 20]"
            ]
          },
          "execution_count": 98,
          "metadata": {},
          "output_type": "execute_result"
        }
      ],
      "source": [
        "myList"
      ]
    },
    {
      "cell_type": "code",
      "execution_count": null,
      "id": "52e1d702",
      "metadata": {
        "id": "52e1d702",
        "outputId": "facccb3d-1fa3-4ddc-a9e6-eb72e512de55"
      },
      "outputs": [
        {
          "data": {
            "text/plain": [
              "int"
            ]
          },
          "execution_count": 99,
          "metadata": {},
          "output_type": "execute_result"
        }
      ],
      "source": [
        "myList\n",
        "#  del keyword  => reference \n",
        "\n",
        "type(myList[0])"
      ]
    },
    {
      "cell_type": "code",
      "execution_count": null,
      "id": "b4f982a9",
      "metadata": {
        "id": "b4f982a9",
        "outputId": "7202c2c9-7930-4e90-ab6b-d01553e6fe23"
      },
      "outputs": [
        {
          "data": {
            "text/plain": [
              "1954817557744"
            ]
          },
          "execution_count": 100,
          "metadata": {},
          "output_type": "execute_result"
        }
      ],
      "source": [
        "x=9999\n",
        "id(x)"
      ]
    },
    {
      "cell_type": "code",
      "execution_count": null,
      "id": "c7c1f74a",
      "metadata": {
        "id": "c7c1f74a",
        "outputId": "e74e49a1-b22f-4658-e7db-1a928465e0e1"
      },
      "outputs": [
        {
          "data": {
            "text/plain": [
              "1954817560304"
            ]
          },
          "execution_count": 101,
          "metadata": {},
          "output_type": "execute_result"
        }
      ],
      "source": [
        "\n",
        "id(myList[0])"
      ]
    },
    {
      "cell_type": "code",
      "execution_count": null,
      "id": "64e0f1dd",
      "metadata": {
        "id": "64e0f1dd",
        "outputId": "da4204b5-d9a2-4814-d94b-f4f0a1f1dc29"
      },
      "outputs": [
        {
          "ename": "NameError",
          "evalue": "name 'x' is not defined",
          "output_type": "error",
          "traceback": [
            "\u001b[1;31m-----------------------------------------------------------------------\u001b[0m",
            "\u001b[1;31mNameError\u001b[0m                             Traceback (most recent call last)",
            "Cell \u001b[1;32mIn [102], line 3\u001b[0m\n\u001b[0;32m      1\u001b[0m \u001b[38;5;28;01mdel\u001b[39;00m x\n\u001b[1;32m----> 3\u001b[0m \u001b[43mx\u001b[49m\n",
            "\u001b[1;31mNameError\u001b[0m: name 'x' is not defined"
          ]
        }
      ],
      "source": [
        "del x\n",
        "\n",
        "x"
      ]
    },
    {
      "cell_type": "code",
      "execution_count": null,
      "id": "a4c634d9",
      "metadata": {
        "id": "a4c634d9",
        "outputId": "982673f9-1d91-465c-ba70-d60ab7517e28"
      },
      "outputs": [
        {
          "data": {
            "text/plain": [
              "[9999, 'regex', 'hey', 40, 50, 70, 80, 'h', 'a', 'p', 'p', 20]"
            ]
          },
          "execution_count": 103,
          "metadata": {},
          "output_type": "execute_result"
        }
      ],
      "source": [
        "myList"
      ]
    },
    {
      "cell_type": "code",
      "execution_count": null,
      "id": "db699b03",
      "metadata": {
        "id": "db699b03"
      },
      "outputs": [],
      "source": [
        "del myList[0:2]"
      ]
    },
    {
      "cell_type": "code",
      "execution_count": null,
      "id": "ff78fc00",
      "metadata": {
        "id": "ff78fc00",
        "outputId": "af7b99f7-5ed4-48a7-b26e-36e89118f3d9"
      },
      "outputs": [
        {
          "data": {
            "text/plain": [
              "[40, 50, 70, 80, 'h', 'a', 'p', 'p', 20]"
            ]
          },
          "execution_count": 108,
          "metadata": {},
          "output_type": "execute_result"
        }
      ],
      "source": [
        "myList"
      ]
    },
    {
      "cell_type": "code",
      "execution_count": null,
      "id": "13afbc29",
      "metadata": {
        "id": "13afbc29",
        "outputId": "a904afbb-c3ea-476a-d3f5-7b6e863c9aa6"
      },
      "outputs": [
        {
          "data": {
            "text/plain": [
              "[70, 80, 'h', 'a', 'p', 'p', 20]"
            ]
          },
          "execution_count": 109,
          "metadata": {},
          "output_type": "execute_result"
        }
      ],
      "source": [
        "del myList[0:2]\n",
        "myList"
      ]
    },
    {
      "cell_type": "code",
      "execution_count": null,
      "id": "0fdfc67f",
      "metadata": {
        "id": "0fdfc67f",
        "outputId": "055159f9-016f-49fc-e85e-cd72f35c550d"
      },
      "outputs": [
        {
          "name": "stdout",
          "output_type": "stream",
          "text": [
            "Help on list object:\n",
            "\n",
            "class list(object)\n",
            " |  list(iterable=(), /)\n",
            " |  \n",
            " |  Built-in mutable sequence.\n",
            " |  \n",
            " |  If no argument is given, the constructor creates a new empty list.\n",
            " |  The argument must be an iterable if specified.\n",
            " |  \n",
            " |  Methods defined here:\n",
            " |  \n",
            " |  __add__(self, value, /)\n",
            " |      Return self+value.\n",
            " |  \n",
            " |  __contains__(self, key, /)\n",
            " |      Return key in self.\n",
            " |  \n",
            " |  __delitem__(self, key, /)\n",
            " |      Delete self[key].\n",
            " |  \n",
            " |  __eq__(self, value, /)\n",
            " |      Return self==value.\n",
            " |  \n",
            " |  __ge__(self, value, /)\n",
            " |      Return self>=value.\n",
            " |  \n",
            " |  __getattribute__(self, name, /)\n",
            " |      Return getattr(self, name).\n",
            " |  \n",
            " |  __getitem__(...)\n",
            " |      x.__getitem__(y) <==> x[y]\n",
            " |  \n",
            " |  __gt__(self, value, /)\n",
            " |      Return self>value.\n",
            " |  \n",
            " |  __iadd__(self, value, /)\n",
            " |      Implement self+=value.\n",
            " |  \n",
            " |  __imul__(self, value, /)\n",
            " |      Implement self*=value.\n",
            " |  \n",
            " |  __init__(self, /, *args, **kwargs)\n",
            " |      Initialize self.  See help(type(self)) for accurate signature.\n",
            " |  \n",
            " |  __iter__(self, /)\n",
            " |      Implement iter(self).\n",
            " |  \n",
            " |  __le__(self, value, /)\n",
            " |      Return self<=value.\n",
            " |  \n",
            " |  __len__(self, /)\n",
            " |      Return len(self).\n",
            " |  \n",
            " |  __lt__(self, value, /)\n",
            " |      Return self<value.\n",
            " |  \n",
            " |  __mul__(self, value, /)\n",
            " |      Return self*value.\n",
            " |  \n",
            " |  __ne__(self, value, /)\n",
            " |      Return self!=value.\n",
            " |  \n",
            " |  __repr__(self, /)\n",
            " |      Return repr(self).\n",
            " |  \n",
            " |  __reversed__(self, /)\n",
            " |      Return a reverse iterator over the list.\n",
            " |  \n",
            " |  __rmul__(self, value, /)\n",
            " |      Return value*self.\n",
            " |  \n",
            " |  __setitem__(self, key, value, /)\n",
            " |      Set self[key] to value.\n",
            " |  \n",
            " |  __sizeof__(self, /)\n",
            " |      Return the size of the list in memory, in bytes.\n",
            " |  \n",
            " |  append(self, object, /)\n",
            " |      Append object to the end of the list.\n",
            " |  \n",
            " |  clear(self, /)\n",
            " |      Remove all items from list.\n",
            " |  \n",
            " |  copy(self, /)\n",
            " |      Return a shallow copy of the list.\n",
            " |  \n",
            " |  count(self, value, /)\n",
            " |      Return number of occurrences of value.\n",
            " |  \n",
            " |  extend(self, iterable, /)\n",
            " |      Extend list by appending elements from the iterable.\n",
            " |  \n",
            " |  index(self, value, start=0, stop=9223372036854775807, /)\n",
            " |      Return first index of value.\n",
            " |      \n",
            " |      Raises ValueError if the value is not present.\n",
            " |  \n",
            " |  insert(self, index, object, /)\n",
            " |      Insert object before index.\n",
            " |  \n",
            " |  pop(self, index=-1, /)\n",
            " |      Remove and return item at index (default last).\n",
            " |      \n",
            " |      Raises IndexError if list is empty or index is out of range.\n",
            " |  \n",
            " |  remove(self, value, /)\n",
            " |      Remove first occurrence of value.\n",
            " |      \n",
            " |      Raises ValueError if the value is not present.\n",
            " |  \n",
            " |  reverse(self, /)\n",
            " |      Reverse *IN PLACE*.\n",
            " |  \n",
            " |  sort(self, /, *, key=None, reverse=False)\n",
            " |      Sort the list in ascending order and return None.\n",
            " |      \n",
            " |      The sort is in-place (i.e. the list itself is modified) and stable (i.e. the\n",
            " |      order of two equal elements is maintained).\n",
            " |      \n",
            " |      If a key function is given, apply it once to each list item and sort them,\n",
            " |      ascending or descending, according to their function values.\n",
            " |      \n",
            " |      The reverse flag can be set to sort in descending order.\n",
            " |  \n",
            " |  ----------------------------------------------------------------------\n",
            " |  Static methods defined here:\n",
            " |  \n",
            " |  __new__(*args, **kwargs) from builtins.type\n",
            " |      Create and return a new object.  See help(type) for accurate signature.\n",
            " |  \n",
            " |  ----------------------------------------------------------------------\n",
            " |  Data and other attributes defined here:\n",
            " |  \n",
            " |  __hash__ = None\n",
            "\n"
          ]
        }
      ],
      "source": [
        "help(myList)"
      ]
    },
    {
      "cell_type": "code",
      "execution_count": null,
      "id": "b60f8709",
      "metadata": {
        "id": "b60f8709"
      },
      "outputs": [],
      "source": [
        "#  Variable kahan store hota hai stack memory and heap memory? ( waps padenge)\n",
        "#  Local variable vs global variable \n",
        "#  What is namespace, difference type of namespace in Python\n",
        "#  Where we stored local variable and global variable  ( use cases here)\n",
        "#  set, dictionary, tuple, conditional statement & looping statement\n",
        "#  functions\n",
        "\n",
        "\n",
        "myList.append()\n",
        "\n",
        "help\n"
      ]
    }
  ],
  "metadata": {
    "kernelspec": {
      "display_name": "Python 3 (ipykernel)",
      "language": "python",
      "name": "python3"
    },
    "language_info": {
      "codemirror_mode": {
        "name": "ipython",
        "version": 3
      },
      "file_extension": ".py",
      "mimetype": "text/x-python",
      "name": "python",
      "nbconvert_exporter": "python",
      "pygments_lexer": "ipython3",
      "version": "3.8.10"
    },
    "colab": {
      "provenance": []
    }
  },
  "nbformat": 4,
  "nbformat_minor": 5
}