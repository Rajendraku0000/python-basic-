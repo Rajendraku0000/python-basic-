{
 "cells": [
  {
   "cell_type": "code",
   "execution_count": 1,
   "id": "277deef6",
   "metadata": {
    "id": "277deef6"
   },
   "outputs": [],
   "source": [
    "# x=10\n",
    "# stack mai store\n",
    "\n",
    "\n",
    "#  data= > heap objectc\n",
    "#  reference => local & global stack\n"
   ]
  },
  {
   "cell_type": "code",
   "execution_count": 2,
   "id": "d7acbc07",
   "metadata": {
    "id": "d7acbc07",
    "outputId": "375dcf5d-8a34-4a11-afab-f37c8dd35520"
   },
   "outputs": [
    {
     "name": "stdout",
     "output_type": "stream",
     "text": [
      "1826390698576\n"
     ]
    }
   ],
   "source": [
    "#  list vs tuple\n",
    "\n",
    "#  list[10,20,30]\n",
    "# tuple=(10,20,30)\n",
    "\n",
    "\n",
    "\n",
    "myList=[10,20]\n",
    "print(id(myList[0]))"
   ]
  },
  {
   "cell_type": "code",
   "execution_count": 3,
   "id": "f51eb0bc",
   "metadata": {
    "id": "f51eb0bc",
    "outputId": "6629f96e-35dd-4806-b29c-0e363b3c650c"
   },
   "outputs": [
    {
     "name": "stdout",
     "output_type": "stream",
     "text": [
      "1826390698576\n"
     ]
    }
   ],
   "source": [
    "myTuple=(10,20)\n",
    "print(id(myTuple[0]))"
   ]
  },
  {
   "cell_type": "code",
   "execution_count": 4,
   "id": "81551de6",
   "metadata": {
    "id": "81551de6",
    "outputId": "a7a3b19d-ab74-4f02-df23-44e3c720f9e5"
   },
   "outputs": [
    {
     "name": "stdout",
     "output_type": "stream",
     "text": [
      "<class 'tuple'>\n"
     ]
    }
   ],
   "source": [
    "#  list\n",
    "#  tuple\n",
    "\n",
    "# tuple => immutable ( size 40 bytes)\n",
    "\n",
    "myTuple=10,\"tushar\"\n",
    "print(type(myTuple))\n"
   ]
  },
  {
   "cell_type": "code",
   "execution_count": 5,
   "id": "c6adf2a2",
   "metadata": {
    "id": "c6adf2a2",
    "outputId": "f9298203-235a-425d-93f4-9edf1af52601"
   },
   "outputs": [
    {
     "name": "stdout",
     "output_type": "stream",
     "text": [
      "<class 'tuple'>\n"
     ]
    }
   ],
   "source": [
    "#  second after , ( NONE )\n",
    "myTuple=(10,)\n",
    "print(type(myTuple))\n"
   ]
  },
  {
   "cell_type": "code",
   "execution_count": 6,
   "id": "aa6b6ebd",
   "metadata": {
    "id": "aa6b6ebd",
    "outputId": "8c6e1f91-ba44-487d-9727-717bd39587e5"
   },
   "outputs": [
    {
     "data": {
      "text/plain": [
       "1"
      ]
     },
     "execution_count": 6,
     "metadata": {},
     "output_type": "execute_result"
    }
   ],
   "source": [
    "len(myTuple)"
   ]
  },
  {
   "cell_type": "code",
   "execution_count": 7,
   "id": "6b57a862",
   "metadata": {
    "id": "6b57a862",
    "outputId": "7f485c38-7c23-4249-c78a-238ac2a75a2a"
   },
   "outputs": [
    {
     "name": "stdout",
     "output_type": "stream",
     "text": [
      "<class 'tuple'>\n"
     ]
    }
   ],
   "source": [
    "myTuple=(10,20,30)\n",
    "print(type(myTuple))\n"
   ]
  },
  {
   "cell_type": "code",
   "execution_count": 8,
   "id": "baf78347",
   "metadata": {
    "id": "baf78347",
    "outputId": "ea99e1cd-6e01-42dd-8b54-08a1692a9877"
   },
   "outputs": [
    {
     "data": {
      "text/plain": [
       "(10,)"
      ]
     },
     "execution_count": 8,
     "metadata": {},
     "output_type": "execute_result"
    }
   ],
   "source": [
    "myTuple[0::-1]\n"
   ]
  },
  {
   "cell_type": "code",
   "execution_count": 28,
   "id": "d8d8f48a",
   "metadata": {
    "id": "d8d8f48a",
    "outputId": "157002c6-515e-4730-d964-80fc07762e7a"
   },
   "outputs": [
    {
     "name": "stdout",
     "output_type": "stream",
     "text": [
      "Before  1826473931056\n",
      "(10, 20, 30, 10, 20, 10, 20)\n",
      "After  1826473486560\n"
     ]
    }
   ],
   "source": [
    "#  tuple ()\n",
    "\n",
    "#  dicitionary ?\n",
    "print(\"Before \",id(myTuple))\n",
    "\n",
    "myTuple= myTuple+(10,20)\n",
    "print(myTuple)\n",
    "print(\"After \",id(myTuple))"
   ]
  },
  {
   "cell_type": "code",
   "execution_count": 10,
   "id": "2fb29903",
   "metadata": {
    "id": "2fb29903",
    "outputId": "5c20aa42-0cb9-4d52-dcd0-a224fa4acaac"
   },
   "outputs": [
    {
     "data": {
      "text/plain": [
       "'\\n1-5 chapter1  - arithemtic\\n6-10 chapter - comparison\\n11- chapter2 \\n\\nkey:value\\nkey : identifier ) unique\\ndata: duplicate / unique\\ngoogle ( instagram)  => email ---------------\\nname --------\\nage ------\\npassword ---------\\nreenter -------------\\n\\n'"
      ]
     },
     "execution_count": 10,
     "metadata": {},
     "output_type": "execute_result"
    }
   ],
   "source": [
    "#  dictionary => group of object ( pair , mutuable\n",
    "# ordere but with no index\n",
    "# key is unique ,  )\n",
    "\n",
    "#   oxford ( maths)\n",
    "\n",
    "'''\n",
    "1-5 chapter1  - arithemtic\n",
    "6-10 chapter - comparison\n",
    "11- chapter2 \n",
    "\n",
    "key:value\n",
    "key : identifier ) unique\n",
    "data: duplicate / unique\n",
    "google ( instagram)  => email ---------------\n",
    "name --------\n",
    "age ------\n",
    "password ---------\n",
    "reenter -------------\n",
    "\n",
    "'''"
   ]
  },
  {
   "cell_type": "code",
   "execution_count": 11,
   "id": "7faa2aa7",
   "metadata": {
    "id": "7faa2aa7",
    "outputId": "72d6d076-354a-4aa5-c6a1-12427cbb01e6"
   },
   "outputs": [
    {
     "name": "stdout",
     "output_type": "stream",
     "text": [
      "<class 'dict'>\n"
     ]
    }
   ],
   "source": [
    "myDictionary = {\"name\":\"tushar\", \"nickname\":\"tushar\",\"age\":60}\n",
    "print(type(myDictionary))"
   ]
  },
  {
   "cell_type": "code",
   "execution_count": 12,
   "id": "60ea333d",
   "metadata": {
    "id": "60ea333d",
    "outputId": "918c5065-51da-4d29-9811-bcfa5aa1e0a0"
   },
   "outputs": [
    {
     "data": {
      "text/plain": [
       "{'name': 'tushar', 'nickname': 'tushar', 'age': 60}"
      ]
     },
     "execution_count": 12,
     "metadata": {},
     "output_type": "execute_result"
    }
   ],
   "source": [
    "myDictionary"
   ]
  },
  {
   "cell_type": "code",
   "execution_count": 29,
   "id": "8b039cc2",
   "metadata": {
    "id": "8b039cc2",
    "outputId": "f011ff9f-9501-4ce7-e166-73afa8f09aec"
   },
   "outputs": [
    {
     "name": "stdout",
     "output_type": "stream",
     "text": [
      "<class 'dict'>\n"
     ]
    }
   ],
   "source": [
    "myDictionary = {\"name\":\"tushar\", \"nickname\":\"tushar\",(\"age\",):60}\n",
    "\n",
    "print(type(myDictionary))"
   ]
  },
  {
   "cell_type": "code",
   "execution_count": 30,
   "id": "081d2f7f",
   "metadata": {},
   "outputs": [
    {
     "ename": "TypeError",
     "evalue": "unhashable type: 'list'",
     "output_type": "error",
     "traceback": [
      "\u001b[1;31m---------------------------------------------------------------------------\u001b[0m",
      "\u001b[1;31mTypeError\u001b[0m                                 Traceback (most recent call last)",
      "\u001b[1;32m~\\AppData\\Local\\Temp\\ipykernel_7848\\180641039.py\u001b[0m in \u001b[0;36m<module>\u001b[1;34m\u001b[0m\n\u001b[1;32m----> 1\u001b[1;33m \u001b[0mmyDictionary\u001b[0m \u001b[1;33m=\u001b[0m \u001b[1;33m{\u001b[0m\u001b[1;34m\"name\"\u001b[0m\u001b[1;33m:\u001b[0m\u001b[1;34m\"tushar\"\u001b[0m\u001b[1;33m,\u001b[0m \u001b[1;34m\"nickname\"\u001b[0m\u001b[1;33m:\u001b[0m\u001b[1;34m\"tushar\"\u001b[0m\u001b[1;33m,\u001b[0m\u001b[1;33m[\u001b[0m\u001b[1;34m\"age\"\u001b[0m\u001b[1;33m]\u001b[0m\u001b[1;33m:\u001b[0m\u001b[1;36m60\u001b[0m\u001b[1;33m}\u001b[0m\u001b[1;33m\u001b[0m\u001b[1;33m\u001b[0m\u001b[0m\n\u001b[0m\u001b[0;32m      2\u001b[0m \u001b[1;33m\u001b[0m\u001b[0m\n\u001b[0;32m      3\u001b[0m \u001b[0mprint\u001b[0m\u001b[1;33m(\u001b[0m\u001b[0mtype\u001b[0m\u001b[1;33m(\u001b[0m\u001b[0mmyDictionary\u001b[0m\u001b[1;33m)\u001b[0m\u001b[1;33m)\u001b[0m\u001b[1;33m\u001b[0m\u001b[1;33m\u001b[0m\u001b[0m\n",
      "\u001b[1;31mTypeError\u001b[0m: unhashable type: 'list'"
     ]
    }
   ],
   "source": [
    "myDictionary = {\"name\":\"tushar\", \"nickname\":\"tushar\",[\"age\"]:60}\n",
    "\n",
    "print(type(myDictionary))"
   ]
  },
  {
   "cell_type": "code",
   "execution_count": null,
   "id": "71497b14",
   "metadata": {},
   "outputs": [],
   "source": []
  },
  {
   "cell_type": "code",
   "execution_count": 14,
   "id": "bfa0b466",
   "metadata": {
    "id": "bfa0b466",
    "outputId": "b8942c25-cb91-4321-b4e9-0042b90c1afc"
   },
   "outputs": [
    {
     "data": {
      "text/plain": [
       "{'name': 'tushar', 'nickname': 'tushar', ('age',): 60}"
      ]
     },
     "execution_count": 14,
     "metadata": {},
     "output_type": "execute_result"
    }
   ],
   "source": [
    "myDictionary\n"
   ]
  },
  {
   "cell_type": "code",
   "execution_count": 15,
   "id": "97185799",
   "metadata": {
    "id": "97185799",
    "outputId": "b19e65c2-5d34-4d43-e7f7-313e0d438874"
   },
   "outputs": [
    {
     "name": "stdout",
     "output_type": "stream",
     "text": [
      "{'name': 'tusharJI', 'age': 60}\n"
     ]
    }
   ],
   "source": [
    "myDictionary = {\"name\":\"tushar\", \"age\":60,\"name\":\"tusharJI\"}\n",
    "\n",
    "print(myDictionary)"
   ]
  },
  {
   "cell_type": "code",
   "execution_count": 16,
   "id": "1cb90fb1",
   "metadata": {
    "id": "1cb90fb1",
    "outputId": "8fe38468-cbee-4da4-dc66-1add5c604ab0"
   },
   "outputs": [
    {
     "data": {
      "text/plain": [
       "1826469167552"
      ]
     },
     "execution_count": 16,
     "metadata": {},
     "output_type": "execute_result"
    }
   ],
   "source": [
    "mytuple=(10,20,[30,40])\n",
    "\n",
    "id(mytuple)"
   ]
  },
  {
   "cell_type": "code",
   "execution_count": 17,
   "id": "7e724444",
   "metadata": {
    "id": "7e724444",
    "outputId": "b4758690-0829-451b-b9e3-6acf49f74279"
   },
   "outputs": [
    {
     "data": {
      "text/plain": [
       "(10, 20, [30, 40])"
      ]
     },
     "execution_count": 17,
     "metadata": {},
     "output_type": "execute_result"
    }
   ],
   "source": [
    "mytuple"
   ]
  },
  {
   "cell_type": "code",
   "execution_count": 18,
   "id": "e3a59f80",
   "metadata": {
    "id": "e3a59f80"
   },
   "outputs": [],
   "source": [
    "mytuple[-1][0]=90\n"
   ]
  },
  {
   "cell_type": "code",
   "execution_count": 50,
   "id": "68f7431f",
   "metadata": {},
   "outputs": [
    {
     "name": "stdout",
     "output_type": "stream",
     "text": [
      "1826390894992\n"
     ]
    }
   ],
   "source": [
    "mytuple=(256)\n",
    "print(id(mytuple))"
   ]
  },
  {
   "cell_type": "code",
   "execution_count": 31,
   "id": "6a5a62c2",
   "metadata": {
    "id": "6a5a62c2",
    "outputId": "457e7de0-c759-4216-e24e-f4d0c14f2342"
   },
   "outputs": [
    {
     "data": {
      "text/plain": [
       "(10, 20, [90, 40])"
      ]
     },
     "execution_count": 31,
     "metadata": {},
     "output_type": "execute_result"
    }
   ],
   "source": [
    "mytuple"
   ]
  },
  {
   "cell_type": "code",
   "execution_count": 20,
   "id": "9d36defc",
   "metadata": {
    "id": "9d36defc",
    "outputId": "cd000aa0-bdce-4501-cc88-a05a19996532"
   },
   "outputs": [
    {
     "data": {
      "text/plain": [
       "1826469167552"
      ]
     },
     "execution_count": 20,
     "metadata": {},
     "output_type": "execute_result"
    }
   ],
   "source": [
    "# 1851488289664\n",
    "id(mytuple)"
   ]
  },
  {
   "cell_type": "code",
   "execution_count": 21,
   "id": "9aff5218",
   "metadata": {
    "id": "9aff5218",
    "outputId": "192de4a2-f804-4c97-c55c-dbce96d0454d"
   },
   "outputs": [
    {
     "data": {
      "text/plain": [
       "1826390698576"
      ]
     },
     "execution_count": 21,
     "metadata": {},
     "output_type": "execute_result"
    }
   ],
   "source": [
    "myList=[10,20]\n",
    "id(myList[0])"
   ]
  },
  {
   "cell_type": "code",
   "execution_count": 22,
   "id": "2f98130a",
   "metadata": {
    "id": "2f98130a",
    "outputId": "cf3dfbd1-6d7a-4a77-8a98-e0b1bd3dcdf6"
   },
   "outputs": [
    {
     "data": {
      "text/plain": [
       "1826390889936"
      ]
     },
     "execution_count": 22,
     "metadata": {},
     "output_type": "execute_result"
    }
   ],
   "source": [
    "myList[0]=100\n",
    "myList\n",
    "id(myList[0])"
   ]
  },
  {
   "cell_type": "code",
   "execution_count": 23,
   "id": "25023800",
   "metadata": {
    "id": "25023800",
    "outputId": "5166c193-1c9e-4793-e221-60c3fbafa142"
   },
   "outputs": [
    {
     "data": {
      "text/plain": [
       "{'name': 'tushar', 'nickname': 'tushar', 'age': 60}"
      ]
     },
     "execution_count": 23,
     "metadata": {},
     "output_type": "execute_result"
    }
   ],
   "source": [
    "myDictionary = {\"name\":\"tushar\", \"nickname\":\"tushar\",\"age\":60}\n",
    "myDictionary\n",
    "\n",
    "\n"
   ]
  },
  {
   "cell_type": "code",
   "execution_count": 24,
   "id": "1dcc9c4a",
   "metadata": {
    "id": "1dcc9c4a",
    "outputId": "5672a666-50ea-4115-eaac-003d8a00b14d"
   },
   "outputs": [
    {
     "data": {
      "text/plain": [
       "dict_values(['tushar', 'tushar', 60])"
      ]
     },
     "execution_count": 24,
     "metadata": {},
     "output_type": "execute_result"
    }
   ],
   "source": [
    "myDictionary.values()"
   ]
  },
  {
   "cell_type": "code",
   "execution_count": 25,
   "id": "9831fbdb",
   "metadata": {
    "id": "9831fbdb",
    "outputId": "0ed80190-67e4-4395-f18e-7b23dd41fca6"
   },
   "outputs": [
    {
     "data": {
      "text/plain": [
       "dict_keys(['name', 'nickname', 'age'])"
      ]
     },
     "execution_count": 25,
     "metadata": {},
     "output_type": "execute_result"
    }
   ],
   "source": [
    "\n",
    "myDictionary.keys()"
   ]
  },
  {
   "cell_type": "code",
   "execution_count": 26,
   "id": "3123ad2c",
   "metadata": {
    "id": "3123ad2c"
   },
   "outputs": [],
   "source": [
    "#  get will not give an error if key is not avaialable\n",
    "myDictionary.get(\"name121232\")"
   ]
  },
  {
   "cell_type": "code",
   "execution_count": 27,
   "id": "7c2c1a02",
   "metadata": {
    "id": "7c2c1a02",
    "outputId": "182694b3-4fbd-4d1b-9cad-1c410f510cb8"
   },
   "outputs": [
    {
     "ename": "KeyError",
     "evalue": "'name1231212'",
     "output_type": "error",
     "traceback": [
      "\u001b[1;31m---------------------------------------------------------------------------\u001b[0m",
      "\u001b[1;31mKeyError\u001b[0m                                  Traceback (most recent call last)",
      "\u001b[1;32m~\\AppData\\Local\\Temp\\ipykernel_7848\\3811568863.py\u001b[0m in \u001b[0;36m<module>\u001b[1;34m\u001b[0m\n\u001b[1;32m----> 1\u001b[1;33m \u001b[0mmyDictionary\u001b[0m\u001b[1;33m[\u001b[0m\u001b[1;34m\"name1231212\"\u001b[0m\u001b[1;33m]\u001b[0m\u001b[1;33m\u001b[0m\u001b[1;33m\u001b[0m\u001b[0m\n\u001b[0m",
      "\u001b[1;31mKeyError\u001b[0m: 'name1231212'"
     ]
    }
   ],
   "source": [
    "\n",
    "myDictionary[\"name1231212\"]"
   ]
  },
  {
   "cell_type": "code",
   "execution_count": null,
   "id": "2294b381",
   "metadata": {
    "id": "2294b381",
    "outputId": "df23e6f5-4fcb-4aee-f594-5c859f75e1c6"
   },
   "outputs": [],
   "source": [
    "myDictionary.pop(\"nickname\")"
   ]
  },
  {
   "cell_type": "code",
   "execution_count": null,
   "id": "f70f1651",
   "metadata": {
    "id": "f70f1651",
    "outputId": "32804508-806c-4705-98e7-05ca9a026a53"
   },
   "outputs": [],
   "source": [
    "myDictionary"
   ]
  },
  {
   "cell_type": "code",
   "execution_count": null,
   "id": "6f568330",
   "metadata": {
    "id": "6f568330",
    "outputId": "5b74acd1-a8cf-47a9-ca5e-26684bdf027f"
   },
   "outputs": [],
   "source": [
    "\n",
    "myDictionary.popitem()"
   ]
  },
  {
   "cell_type": "code",
   "execution_count": null,
   "id": "42c6fe53",
   "metadata": {
    "id": "42c6fe53",
    "outputId": "fea9f47d-4458-47a1-cda3-a970a9264afa"
   },
   "outputs": [],
   "source": [
    "myDictionary"
   ]
  },
  {
   "cell_type": "code",
   "execution_count": null,
   "id": "a33b1095",
   "metadata": {
    "id": "a33b1095"
   },
   "outputs": [],
   "source": [
    "#  new element + update in the same format\n",
    "myDictionary[100]=\"ram\""
   ]
  },
  {
   "cell_type": "code",
   "execution_count": null,
   "id": "bb68ba4f",
   "metadata": {
    "id": "bb68ba4f",
    "outputId": "96e8bea3-7f6d-434c-b482-b8f1cb487874"
   },
   "outputs": [],
   "source": [
    "myDictionary"
   ]
  },
  {
   "cell_type": "code",
   "execution_count": null,
   "id": "27a133b8",
   "metadata": {
    "id": "27a133b8"
   },
   "outputs": [],
   "source": [
    "del myDictionary[100]\n"
   ]
  },
  {
   "cell_type": "code",
   "execution_count": null,
   "id": "4e8cdffb",
   "metadata": {
    "id": "4e8cdffb",
    "outputId": "35bbc2ce-6195-4350-feb4-0b2086bada09"
   },
   "outputs": [],
   "source": [
    "myDictionary"
   ]
  },
  {
   "cell_type": "code",
   "execution_count": null,
   "id": "9621578c",
   "metadata": {
    "id": "9621578c"
   },
   "outputs": [],
   "source": [
    "# myDictionary.setdefault() padna dia hai\n",
    "#   \n",
    "\n"
   ]
  },
  {
   "cell_type": "code",
   "execution_count": 51,
   "id": "4156c5a9",
   "metadata": {
    "id": "4156c5a9"
   },
   "outputs": [],
   "source": [
    "#  set =>  unoredered colleciton of element which has no index\n",
    "#      element unique ( no duplicate)\n",
    "#  mutuable data type\n",
    "#  element => immutable data type\n"
   ]
  },
  {
   "cell_type": "code",
   "execution_count": 52,
   "id": "e7d10435",
   "metadata": {
    "id": "e7d10435",
    "outputId": "e1da8f9a-2e4e-4720-df0c-cb278d59449b"
   },
   "outputs": [
    {
     "name": "stdout",
     "output_type": "stream",
     "text": [
      "<class 'set'>\n"
     ]
    }
   ],
   "source": [
    "mySet=set({})\n",
    "print(type(mySet))\n"
   ]
  },
  {
   "cell_type": "code",
   "execution_count": 53,
   "id": "d90ee6c5",
   "metadata": {
    "id": "d90ee6c5",
    "outputId": "d0c1e622-a851-43d0-a247-2b86eb0a5aa6"
   },
   "outputs": [
    {
     "ename": "TypeError",
     "evalue": "unhashable type: 'list'",
     "output_type": "error",
     "traceback": [
      "\u001b[1;31m---------------------------------------------------------------------------\u001b[0m",
      "\u001b[1;31mTypeError\u001b[0m                                 Traceback (most recent call last)",
      "\u001b[1;32m~\\AppData\\Local\\Temp\\ipykernel_7848\\3278952180.py\u001b[0m in \u001b[0;36m<module>\u001b[1;34m\u001b[0m\n\u001b[1;32m----> 1\u001b[1;33m \u001b[0mmySet\u001b[0m\u001b[1;33m=\u001b[0m\u001b[1;33m{\u001b[0m\u001b[1;36m10\u001b[0m\u001b[1;33m,\u001b[0m\u001b[1;36m20\u001b[0m\u001b[1;33m,\u001b[0m\u001b[1;36m30\u001b[0m\u001b[1;33m,\u001b[0m\u001b[1;36m10\u001b[0m\u001b[1;33m,\u001b[0m\u001b[1;36m10\u001b[0m\u001b[1;33m,\u001b[0m\u001b[1;36m40\u001b[0m\u001b[1;33m,\u001b[0m\u001b[1;36m50\u001b[0m\u001b[1;33m,\u001b[0m\u001b[1;36m10\u001b[0m\u001b[1;33m,\u001b[0m\u001b[1;33m[\u001b[0m\u001b[1;36m191021\u001b[0m\u001b[1;33m]\u001b[0m\u001b[1;33m}\u001b[0m\u001b[1;33m\u001b[0m\u001b[1;33m\u001b[0m\u001b[0m\n\u001b[0m",
      "\u001b[1;31mTypeError\u001b[0m: unhashable type: 'list'"
     ]
    }
   ],
   "source": [
    "\n",
    "mySet={10,20,30,10,10,40,50,10,[191021]}"
   ]
  },
  {
   "cell_type": "code",
   "execution_count": 54,
   "id": "1ab353f0",
   "metadata": {
    "id": "1ab353f0"
   },
   "outputs": [],
   "source": [
    "mySet={10,20,301,10,\"mayank\"}"
   ]
  },
  {
   "cell_type": "code",
   "execution_count": 55,
   "id": "ede33ea8",
   "metadata": {
    "id": "ede33ea8"
   },
   "outputs": [],
   "source": [
    "mySet.add(999)"
   ]
  },
  {
   "cell_type": "code",
   "execution_count": 56,
   "id": "59f95e70",
   "metadata": {
    "id": "59f95e70",
    "outputId": "a2bc6a8b-146a-43f1-d5f7-7a1e1ed2d757"
   },
   "outputs": [
    {
     "data": {
      "text/plain": [
       "{10, 20, 301, 999, 'mayank'}"
      ]
     },
     "execution_count": 56,
     "metadata": {},
     "output_type": "execute_result"
    }
   ],
   "source": [
    "mySet"
   ]
  },
  {
   "cell_type": "code",
   "execution_count": 57,
   "id": "8f4e594d",
   "metadata": {
    "id": "8f4e594d",
    "outputId": "780c626f-83ba-41d9-e822-4621b8057f94"
   },
   "outputs": [
    {
     "ename": "TypeError",
     "evalue": "set.add() takes exactly one argument (2 given)",
     "output_type": "error",
     "traceback": [
      "\u001b[1;31m---------------------------------------------------------------------------\u001b[0m",
      "\u001b[1;31mTypeError\u001b[0m                                 Traceback (most recent call last)",
      "\u001b[1;32m~\\AppData\\Local\\Temp\\ipykernel_7848\\1392331994.py\u001b[0m in \u001b[0;36m<module>\u001b[1;34m\u001b[0m\n\u001b[1;32m----> 1\u001b[1;33m \u001b[0mmySet\u001b[0m\u001b[1;33m.\u001b[0m\u001b[0madd\u001b[0m\u001b[1;33m(\u001b[0m\u001b[1;36m70\u001b[0m\u001b[1;33m,\u001b[0m\u001b[1;36m71\u001b[0m\u001b[1;33m)\u001b[0m\u001b[1;33m\u001b[0m\u001b[1;33m\u001b[0m\u001b[0m\n\u001b[0m\u001b[0;32m      2\u001b[0m \u001b[1;33m\u001b[0m\u001b[0m\n",
      "\u001b[1;31mTypeError\u001b[0m: set.add() takes exactly one argument (2 given)"
     ]
    }
   ],
   "source": [
    "mySet.add(70,71)\n",
    "\n"
   ]
  },
  {
   "cell_type": "code",
   "execution_count": 58,
   "id": "59f92db0",
   "metadata": {
    "id": "59f92db0",
    "outputId": "d0f78027-e38b-4315-f310-1e6ed740e7dc"
   },
   "outputs": [
    {
     "ename": "TypeError",
     "evalue": "'int' object is not iterable",
     "output_type": "error",
     "traceback": [
      "\u001b[1;31m---------------------------------------------------------------------------\u001b[0m",
      "\u001b[1;31mTypeError\u001b[0m                                 Traceback (most recent call last)",
      "\u001b[1;32m~\\AppData\\Local\\Temp\\ipykernel_7848\\2182148568.py\u001b[0m in \u001b[0;36m<module>\u001b[1;34m\u001b[0m\n\u001b[1;32m----> 1\u001b[1;33m \u001b[0mmySet\u001b[0m\u001b[1;33m.\u001b[0m\u001b[0mupdate\u001b[0m\u001b[1;33m(\u001b[0m\u001b[1;33m(\u001b[0m\u001b[1;36m10\u001b[0m\u001b[1;33m)\u001b[0m\u001b[1;33m)\u001b[0m\u001b[1;33m\u001b[0m\u001b[1;33m\u001b[0m\u001b[0m\n\u001b[0m\u001b[0;32m      2\u001b[0m \u001b[0mmySet\u001b[0m\u001b[1;33m\u001b[0m\u001b[1;33m\u001b[0m\u001b[0m\n",
      "\u001b[1;31mTypeError\u001b[0m: 'int' object is not iterable"
     ]
    }
   ],
   "source": [
    "mySet.update((10))\n",
    "mySet\n"
   ]
  },
  {
   "cell_type": "code",
   "execution_count": null,
   "id": "b70bf459",
   "metadata": {
    "id": "b70bf459",
    "outputId": "44f01352-6561-4396-bde1-177f7507b729"
   },
   "outputs": [],
   "source": [
    "mySet.update((188,))\n",
    "mySet\n"
   ]
  },
  {
   "cell_type": "code",
   "execution_count": null,
   "id": "2642441a",
   "metadata": {
    "id": "2642441a",
    "outputId": "423689ca-7a15-42c7-bc34-cf7fd2719d4c"
   },
   "outputs": [],
   "source": [
    "mySet.update(\"hey\")\n",
    "mySet\n"
   ]
  },
  {
   "cell_type": "code",
   "execution_count": null,
   "id": "c085b90b",
   "metadata": {
    "id": "c085b90b",
    "outputId": "36d58b5f-9c7e-496c-a02e-a513ec9e3c96"
   },
   "outputs": [],
   "source": [
    "mySet.update({101,102,103})\n",
    "mySet\n"
   ]
  },
  {
   "cell_type": "code",
   "execution_count": null,
   "id": "b3603fae",
   "metadata": {
    "id": "b3603fae",
    "outputId": "463598f6-fc79-4e0f-b5bd-214b825c015a"
   },
   "outputs": [],
   "source": [
    "mySet.update({\"name\":\"tushar\"})\n",
    "mySet\n"
   ]
  },
  {
   "cell_type": "code",
   "execution_count": 61,
   "id": "7ce913fc",
   "metadata": {
    "id": "7ce913fc",
    "outputId": "987a0065-27b4-43ce-b607-708de9a7f155"
   },
   "outputs": [
    {
     "ename": "KeyError",
     "evalue": "10",
     "output_type": "error",
     "traceback": [
      "\u001b[1;31m---------------------------------------------------------------------------\u001b[0m",
      "\u001b[1;31mKeyError\u001b[0m                                  Traceback (most recent call last)",
      "\u001b[1;32m~\\AppData\\Local\\Temp\\ipykernel_7848\\1097070087.py\u001b[0m in \u001b[0;36m<module>\u001b[1;34m\u001b[0m\n\u001b[0;32m      1\u001b[0m \u001b[1;31m#  in case element nhi hai\u001b[0m\u001b[1;33m\u001b[0m\u001b[1;33m\u001b[0m\u001b[0m\n\u001b[1;32m----> 2\u001b[1;33m \u001b[0mmySet\u001b[0m\u001b[1;33m.\u001b[0m\u001b[0mremove\u001b[0m\u001b[1;33m(\u001b[0m\u001b[1;36m10\u001b[0m\u001b[1;33m)\u001b[0m\u001b[1;33m\u001b[0m\u001b[1;33m\u001b[0m\u001b[0m\n\u001b[0m\u001b[0;32m      3\u001b[0m \u001b[1;33m\u001b[0m\u001b[0m\n\u001b[0;32m      4\u001b[0m \u001b[1;33m\u001b[0m\u001b[0m\n",
      "\u001b[1;31mKeyError\u001b[0m: 10"
     ]
    }
   ],
   "source": [
    "#  in case element nhi hai\n",
    "mySet.remove(10)\n",
    "\n",
    "\n"
   ]
  },
  {
   "cell_type": "code",
   "execution_count": 63,
   "id": "171d2032",
   "metadata": {
    "id": "171d2032",
    "outputId": "99e38aaf-760a-4e08-ed93-e3e7ecd0a14a"
   },
   "outputs": [
    {
     "data": {
      "text/plain": [
       "{20, 301, 999, 'mayank'}"
      ]
     },
     "execution_count": 63,
     "metadata": {},
     "output_type": "execute_result"
    }
   ],
   "source": [
    "\n",
    "mySet.discard(101)\n",
    "\n",
    "mySet\n",
    "\n"
   ]
  },
  {
   "cell_type": "code",
   "execution_count": 1,
   "id": "ebadc71d",
   "metadata": {
    "id": "ebadc71d"
   },
   "outputs": [],
   "source": [
    "# myDictionary.setdefault() padna dia hai\n",
    "#  learn about set operation (* union, intersection, subtract, minus)\n",
    "#  what is superset vs subset\n",
    "#  set data type functions\n",
    "#  dictioanry functions\n",
    "\n",
    "#  program \n",
    "#  take a input from the user string format \"hey tushar this is tushar hey\"\n",
    "#  we need to print all words which are not duplicate\n",
    "#  \"hey tushar this is\"\n",
    "#  sequence of words maintain ho yh nhi\n",
    "#  sequence of words maintain hone chaite\n"
   ]
  }
 ],
 "metadata": {
  "colab": {
   "provenance": []
  },
  "kernelspec": {
   "display_name": "Python 3 (ipykernel)",
   "language": "python",
   "name": "python3"
  },
  "language_info": {
   "codemirror_mode": {
    "name": "ipython",
    "version": 3
   },
   "file_extension": ".py",
   "mimetype": "text/x-python",
   "name": "python",
   "nbconvert_exporter": "python",
   "pygments_lexer": "ipython3",
   "version": "3.9.13"
  }
 },
 "nbformat": 4,
 "nbformat_minor": 5
}
